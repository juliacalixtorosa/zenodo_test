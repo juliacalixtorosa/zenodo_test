corpus_explorer_old.py:
    corpus_explorer:
        h1: 9
        h2: 86
        N1: 51
        N2: 100
        vocabulary: 95
        length: 151
        calculated_length: 581.188093917
        volume: 992.048196858
        difficulty: 5.23255813953
        effort: 5190.94986728
        time: 288.386103738
        bugs: 0.330682732286
    inverse_dict:
        h1: 0
        h2: 0
        N1: 0
        N2: 0
        vocabulary: 0
        length: 0
        calculated_length: 0
        volume: 0
        difficulty: 0
        effort: 0
        time: 0.0
        bugs: 0.0
    dict_factory:
        h1: 0
        h2: 0
        N1: 0
        N2: 0
        vocabulary: 0
        length: 0
        calculated_length: 0
        volume: 0
        difficulty: 0
        effort: 0
        time: 0.0
        bugs: 0.0
    write_dict_data_to_csv_file:
        h1: 0
        h2: 0
        N1: 0
        N2: 0
        vocabulary: 0
        length: 0
        calculated_length: 0
        volume: 0
        difficulty: 0
        effort: 0
        time: 0.0
        bugs: 0.0
